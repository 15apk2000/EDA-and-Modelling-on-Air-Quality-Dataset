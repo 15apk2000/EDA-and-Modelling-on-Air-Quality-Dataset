{
  "nbformat": 4,
  "nbformat_minor": 0,
  "metadata": {
    "kernelspec": {
      "display_name": "Python 3",
      "language": "python",
      "name": "python3"
    },
    "language_info": {
      "codemirror_mode": {
        "name": "ipython",
        "version": 3
      },
      "file_extension": ".py",
      "mimetype": "text/x-python",
      "name": "python",
      "nbconvert_exporter": "python",
      "pygments_lexer": "ipython3",
      "version": "3.7.5"
    },
    "colab": {
      "name": "Group5_S20170010105_S20170020230_S20170010138_S20170020241_Project_Code_File2.ipynb",
      "provenance": []
    }
  },
  "cells": [
    {
      "cell_type": "markdown",
      "metadata": {
        "id": "TIHbW-EmvpCX"
      },
      "source": [
        "\n",
        "\n",
        "1.  S20170010105 - PSVN Bhavani Shankar\n",
        "2.  S20170020230 - Pavan Kumar Anand\n",
        "\n",
        "1.  S20170010138 - Hemanth Sanisetty\n",
        "\n",
        "1.  S20170020241 - Somana Venkata Sai Krishna Rupesh\n",
        "\n",
        "\n",
        "\n",
        "\n",
        "\n",
        "\n",
        "\n",
        "\n"
      ]
    },
    {
      "cell_type": "code",
      "metadata": {
        "id": "SNxmac6Mv1c2"
      },
      "source": [
        "from sklearn.decomposition import PCA\n",
        "from sklearn.preprocessing import StandardScaler\n",
        "from sklearn.model_selection import train_test_split\n",
        "from sklearn.linear_model import LinearRegression\n",
        "from sklearn.impute import SimpleImputer\n",
        "from sklearn.metrics import mean_squared_error\n",
        "from sklearn.metrics import r2_score\n",
        "import pandas as pd\n",
        "import matplotlib.pyplot as plt\n",
        "from keras.models import Sequential\n",
        "from keras.layers import Dense\n",
        "from keras import backend as K"
      ],
      "execution_count": null,
      "outputs": []
    },
    {
      "cell_type": "code",
      "metadata": {
        "id": "Z1snmeQMv1c2",
        "outputId": "c9a1aa13-1e87-4abd-e923-d2561e69c15b"
      },
      "source": [
        "data = pd.read_excel('./Dataset/AirQualityUCI.xlsx')\n",
        "\n",
        "attributes = ['CO(GT)', 'PT08.S1(CO)', 'NMHC(GT)', 'C6H6(GT)', 'PT08.S2(NMHC)', 'NOx(GT)',\n",
        "              'PT08.S3(NOx)', 'NO2(GT)', 'PT08.S4(NO2)', 'PT08.S5(O3)']\n",
        "\n",
        "X_data = data[['PT08.S1(CO)', 'PT08.S2(NMHC)', 'PT08.S3(NOx)',\n",
        "               'PT08.S4(NO2)', 'PT08.S5(O3)', 'T', 'AH', 'RH']]\n",
        "\n",
        "Y_data = data[['CO(GT)','NMHC(GT)','C6H6(GT)','NOx(GT)','NO2(GT)']]\n",
        "\n",
        "# Data Available\n",
        "\n",
        "Y_cols = ['CO(GT)','NMHC(GT)','C6H6(GT)','NOx(GT)','NO2(GT)']\n",
        "\n",
        "for i in range(5):\n",
        "\tcount = 0\n",
        "\tfor j in range(len(data[Y_cols[i]])):\n",
        "\t\tif data[Y_cols[i]][j] == -200:\n",
        "\t\t\tcount += 1\n",
        "\tprint(count/len(data[Y_cols[i]]))\n",
        "\n",
        "# Model 1\n",
        "\n",
        "model_1_cols = ['PT08.S1(CO)', 'PT08.S2(NMHC)', 'PT08.S3(NOx)',\n",
        "               'PT08.S4(NO2)', 'PT08.S5(O3)', 'T', 'AH', 'RH']\n",
        "X_1_data = X_data[model_1_cols]\n",
        "Y_1_data = Y_data[['CO(GT)']]\n",
        "\n",
        "# Handling missing values\n",
        "\n",
        "imp_mean = SimpleImputer(missing_values=-200, strategy='mean')\n",
        "imp_mean.fit(Y_1_data)\n",
        "\n",
        "Y_1_data = imp_mean.transform(Y_1_data)\n",
        "\n",
        "\n",
        "\n",
        "# Train test split\n",
        "\n",
        "X_1_train, X_1_test, Y_1_train, Y_1_test = train_test_split(X_1_data, Y_1_data, test_size=0.1, random_state=42)\n",
        "\n",
        "scaler_1 = StandardScaler()\n",
        "scaler_1.fit(X_1_train)\n",
        "X_1_train = scaler_1.transform(X_1_train)\n",
        "X_1_test = scaler_1.transform(X_1_test)\n",
        "\n",
        "\n",
        "model = Sequential()\n",
        "model = Sequential()\n",
        "model.add(Dense(8, input_dim=8, kernel_initializer='normal', activation='relu'))\n",
        "model.add(Dense(128, kernel_initializer='normal'))\n",
        "model.add(Dense(64, kernel_initializer='normal'))\n",
        "model.add(Dense(1, kernel_initializer='normal'))\n",
        "\n",
        "model.compile(loss='mean_squared_error', optimizer='adam')\n",
        "print(model.summary())\n",
        "history = model.fit(X_1_train,Y_1_train,validation_data = (X_1_test,Y_1_test),batch_size = 32, epochs = 30)"
      ],
      "execution_count": null,
      "outputs": [
        {
          "output_type": "stream",
          "text": [
            "0.17986534145559474\n",
            "0.9023191193758683\n",
            "0.0391151009939083\n",
            "0.17516297958747462\n",
            "0.1754835951693919\n",
            "_________________________________________________________________\n",
            "Layer (type)                 Output Shape              Param #   \n",
            "=================================================================\n",
            "dense_68 (Dense)             (None, 8)                 72        \n",
            "_________________________________________________________________\n",
            "dense_69 (Dense)             (None, 128)               1152      \n",
            "_________________________________________________________________\n",
            "dense_70 (Dense)             (None, 64)                8256      \n",
            "_________________________________________________________________\n",
            "dense_71 (Dense)             (None, 1)                 65        \n",
            "=================================================================\n",
            "Total params: 9,545\n",
            "Trainable params: 9,545\n",
            "Non-trainable params: 0\n",
            "_________________________________________________________________\n",
            "None\n",
            "Train on 8421 samples, validate on 936 samples\n",
            "Epoch 1/30\n",
            "8421/8421 [==============================] - 2s 235us/step - loss: 1.1233 - val_loss: 0.5621\n",
            "Epoch 2/30\n",
            "8421/8421 [==============================] - 1s 83us/step - loss: 0.5626 - val_loss: 0.5292\n",
            "Epoch 3/30\n",
            "8421/8421 [==============================] - 1s 81us/step - loss: 0.5390 - val_loss: 0.5423\n",
            "Epoch 4/30\n",
            "8421/8421 [==============================] - 1s 84us/step - loss: 0.5301 - val_loss: 0.5140\n",
            "Epoch 5/30\n",
            "8421/8421 [==============================] - 1s 107us/step - loss: 0.5310 - val_loss: 0.5005\n",
            "Epoch 6/30\n",
            "8421/8421 [==============================] - 1s 81us/step - loss: 0.5231 - val_loss: 0.4751\n",
            "Epoch 7/30\n",
            "8421/8421 [==============================] - 1s 81us/step - loss: 0.5190 - val_loss: 0.4753\n",
            "Epoch 8/30\n",
            "8421/8421 [==============================] - 1s 80us/step - loss: 0.5162 - val_loss: 0.4685\n",
            "Epoch 9/30\n",
            "8421/8421 [==============================] - 1s 91us/step - loss: 0.5219 - val_loss: 0.4726\n",
            "Epoch 10/30\n",
            "8421/8421 [==============================] - 1s 87us/step - loss: 0.5186 - val_loss: 0.4938\n",
            "Epoch 11/30\n",
            "8421/8421 [==============================] - 1s 84us/step - loss: 0.5168 - val_loss: 0.4695\n",
            "Epoch 12/30\n",
            "8421/8421 [==============================] - 1s 85us/step - loss: 0.5149 - val_loss: 0.4683\n",
            "Epoch 13/30\n",
            "8421/8421 [==============================] - 1s 80us/step - loss: 0.5180 - val_loss: 0.4648\n",
            "Epoch 14/30\n",
            "8421/8421 [==============================] - 1s 114us/step - loss: 0.5154 - val_loss: 0.4665\n",
            "Epoch 15/30\n",
            "8421/8421 [==============================] - 1s 94us/step - loss: 0.5144 - val_loss: 0.4734\n",
            "Epoch 16/30\n",
            "8421/8421 [==============================] - 1s 84us/step - loss: 0.5170 - val_loss: 0.4728\n",
            "Epoch 17/30\n",
            "8421/8421 [==============================] - 1s 88us/step - loss: 0.5107 - val_loss: 0.4753\n",
            "Epoch 18/30\n",
            "8421/8421 [==============================] - 1s 92us/step - loss: 0.5162 - val_loss: 0.4734\n",
            "Epoch 19/30\n",
            "8421/8421 [==============================] - 1s 84us/step - loss: 0.5156 - val_loss: 0.4926\n",
            "Epoch 20/30\n",
            "8421/8421 [==============================] - 1s 86us/step - loss: 0.5138 - val_loss: 0.4748\n",
            "Epoch 21/30\n",
            "8421/8421 [==============================] - 1s 88us/step - loss: 0.5130 - val_loss: 0.4713\n",
            "Epoch 22/30\n",
            "8421/8421 [==============================] - 1s 108us/step - loss: 0.5197 - val_loss: 0.4668\n",
            "Epoch 23/30\n",
            "8421/8421 [==============================] - 1s 94us/step - loss: 0.5099 - val_loss: 0.4605\n",
            "Epoch 24/30\n",
            "8421/8421 [==============================] - 1s 85us/step - loss: 0.5106 - val_loss: 0.4733\n",
            "Epoch 25/30\n",
            "8421/8421 [==============================] - 1s 88us/step - loss: 0.5106 - val_loss: 0.4633\n",
            "Epoch 26/30\n",
            "8421/8421 [==============================] - 1s 84us/step - loss: 0.5070 - val_loss: 0.4606\n",
            "Epoch 27/30\n",
            "8421/8421 [==============================] - 1s 93us/step - loss: 0.5049 - val_loss: 0.4984\n",
            "Epoch 28/30\n",
            "8421/8421 [==============================] - 1s 89us/step - loss: 0.5086 - val_loss: 0.4758\n",
            "Epoch 29/30\n",
            "8421/8421 [==============================] - 1s 84us/step - loss: 0.5085 - val_loss: 0.4616\n",
            "Epoch 30/30\n",
            "8421/8421 [==============================] - 1s 87us/step - loss: 0.5097 - val_loss: 0.4775\n"
          ],
          "name": "stdout"
        }
      ]
    },
    {
      "cell_type": "code",
      "metadata": {
        "id": "yzhg8_Jpv1c3",
        "outputId": "2172f8c9-2953-4065-fcf8-a6bb411caeff"
      },
      "source": [
        "plt.plot(history.history['loss'])\n",
        "plt.plot(history.history['val_loss'])\n",
        "plt.title('model loss')\n",
        "plt.ylabel('loss')\n",
        "plt.xlabel('epoch')\n",
        "plt.legend(['train', 'test'], loc='upper left')\n",
        "plt.show()"
      ],
      "execution_count": null,
      "outputs": [
        {
          "output_type": "display_data",
          "data": {
            "image/png": "[encoded data removed]",
            "text/plain": [
              "<Figure size 432x288 with 1 Axes>"
            ]
          },
          "metadata": {
            "tags": [],
            "needs_background": "light"
          }
        }
      ]
    },
    {
      "cell_type": "code",
      "metadata": {
        "id": "PS-IG4e-v1c4",
        "outputId": "292d9a3f-6550-430a-84ac-33fc84c0028b"
      },
      "source": [
        "print(r2_score(Y_1_train,model.predict(X_1_train)))\n",
        "print(r2_score(Y_1_test,model.predict(X_1_test)))"
      ],
      "execution_count": null,
      "outputs": [
        {
          "output_type": "stream",
          "text": [
            "0.6982638875361704\n",
            "0.7448845076612003\n"
          ],
          "name": "stdout"
        }
      ]
    },
    {
      "cell_type": "code",
      "metadata": {
        "id": "bMJBkrbLv1c4",
        "outputId": "3d91ba40-b289-4df0-9ca4-972a11b42f09"
      },
      "source": [
        "model_2_cols = ['PT08.S1(CO)', 'PT08.S2(NMHC)', 'PT08.S3(NOx)',\n",
        "               'PT08.S4(NO2)', 'PT08.S5(O3)', 'T', 'AH', 'RH']\n",
        "X_2_data = X_data[model_2_cols]\n",
        "Y_2_data = Y_data[['NOx(GT)']]\n",
        "\n",
        "# Handling missing values\n",
        "\n",
        "imp_mean = SimpleImputer(missing_values=-200, strategy='mean')\n",
        "imp_mean.fit(Y_2_data)\n",
        "\n",
        "Y_2_data = imp_mean.transform(Y_2_data)\n",
        "\n",
        "# print(Y_data)\n",
        "\n",
        "\n",
        "# Train test split\n",
        "\n",
        "X_2_train, X_2_test, Y_2_train, Y_2_test = train_test_split(X_2_data, Y_2_data, test_size=0.1, random_state=42)\n",
        "\n",
        "scaler_2 = StandardScaler()\n",
        "scaler_2.fit(X_2_train)\n",
        "X_2_train = scaler_2.transform(X_2_train)\n",
        "X_2_test = scaler_2.transform(X_2_test)\n",
        "\n",
        "\n",
        "model = Sequential()\n",
        "model = Sequential()\n",
        "model.add(Dense(8, input_dim=8, kernel_initializer='normal', activation='relu'))\n",
        "model.add(Dense(64, kernel_initializer='normal'))\n",
        "model.add(Dense(64, kernel_initializer='normal'))\n",
        "model.add(Dense(1, kernel_initializer='normal'))\n",
        "\n",
        "model.compile(loss='mean_squared_error', optimizer='adam')\n",
        "print(model.summary())\n",
        "history = model.fit(X_2_train,Y_2_train,validation_data = (X_2_test,Y_2_test),batch_size = 32, epochs = 40)"
      ],
      "execution_count": null,
      "outputs": [
        {
          "output_type": "stream",
          "text": [
            "_________________________________________________________________\n",
            "Layer (type)                 Output Shape              Param #   \n",
            "=================================================================\n",
            "dense_72 (Dense)             (None, 8)                 72        \n",
            "_________________________________________________________________\n",
            "dense_73 (Dense)             (None, 64)                576       \n",
            "_________________________________________________________________\n",
            "dense_74 (Dense)             (None, 64)                4160      \n",
            "_________________________________________________________________\n",
            "dense_75 (Dense)             (None, 1)                 65        \n",
            "=================================================================\n",
            "Total params: 4,873\n",
            "Trainable params: 4,873\n",
            "Non-trainable params: 0\n",
            "_________________________________________________________________\n",
            "None\n",
            "Train on 8421 samples, validate on 936 samples\n",
            "Epoch 1/40\n",
            "8421/8421 [==============================] - 2s 237us/step - loss: 54886.4657 - val_loss: 15700.5523\n",
            "Epoch 2/40\n",
            "8421/8421 [==============================] - 1s 81us/step - loss: 14969.3121 - val_loss: 12611.2316\n",
            "Epoch 3/40\n",
            "8421/8421 [==============================] - 1s 124us/step - loss: 13498.4016 - val_loss: 12041.8332\n",
            "Epoch 4/40\n",
            "8421/8421 [==============================] - 1s 126us/step - loss: 12899.4136 - val_loss: 11311.2529\n",
            "Epoch 5/40\n",
            "8421/8421 [==============================] - 1s 80us/step - loss: 12364.9933 - val_loss: 10968.8605\n",
            "Epoch 6/40\n",
            "8421/8421 [==============================] - 1s 81us/step - loss: 11939.5656 - val_loss: 10576.6619\n",
            "Epoch 7/40\n",
            "8421/8421 [==============================] - 1s 81us/step - loss: 11686.2832 - val_loss: 10208.0094\n",
            "Epoch 8/40\n",
            "8421/8421 [==============================] - 1s 84us/step - loss: 11421.8693 - val_loss: 10032.6957\n",
            "Epoch 9/40\n",
            "8421/8421 [==============================] - 1s 82us/step - loss: 11228.7035 - val_loss: 10086.3116\n",
            "Epoch 10/40\n",
            "8421/8421 [==============================] - 1s 80us/step - loss: 11063.8789 - val_loss: 10004.2615\n",
            "Epoch 11/40\n",
            "8421/8421 [==============================] - 1s 93us/step - loss: 10968.8973 - val_loss: 9759.6661\n",
            "Epoch 12/40\n",
            "8421/8421 [==============================] - 1s 88us/step - loss: 10933.5627 - val_loss: 9689.2326\n",
            "Epoch 13/40\n",
            "8421/8421 [==============================] - 1s 113us/step - loss: 10870.2753 - val_loss: 9650.3650\n",
            "Epoch 14/40\n",
            "8421/8421 [==============================] - 1s 87us/step - loss: 10837.0277 - val_loss: 9497.3074\n",
            "Epoch 15/40\n",
            "8421/8421 [==============================] - 1s 82us/step - loss: 10832.0792 - val_loss: 9504.0761\n",
            "Epoch 16/40\n",
            "8421/8421 [==============================] - 1s 81us/step - loss: 10800.6528 - val_loss: 9461.5135\n",
            "Epoch 17/40\n",
            "8421/8421 [==============================] - 1s 86us/step - loss: 10798.1656 - val_loss: 9399.4705\n",
            "Epoch 18/40\n",
            "8421/8421 [==============================] - 1s 86us/step - loss: 10809.3506 - val_loss: 9590.9345\n",
            "Epoch 19/40\n",
            "8421/8421 [==============================] - 1s 118us/step - loss: 10810.8938 - val_loss: 9479.4130\n",
            "Epoch 20/40\n",
            "8421/8421 [==============================] - 1s 85us/step - loss: 10742.4987 - val_loss: 9560.6200\n",
            "Epoch 21/40\n",
            "8421/8421 [==============================] - 1s 86us/step - loss: 10748.1345 - val_loss: 9333.3311\n",
            "Epoch 22/40\n",
            "8421/8421 [==============================] - 1s 100us/step - loss: 10753.1977 - val_loss: 9368.9867\n",
            "Epoch 23/40\n",
            "8421/8421 [==============================] - 1s 87us/step - loss: 10739.8383 - val_loss: 9380.3091\n",
            "Epoch 24/40\n",
            "8421/8421 [==============================] - 1s 90us/step - loss: 10737.1659 - val_loss: 9576.4435\n",
            "Epoch 25/40\n",
            "8421/8421 [==============================] - 1s 88us/step - loss: 10689.7625 - val_loss: 9355.7416\n",
            "Epoch 26/40\n",
            "8421/8421 [==============================] - 1s 98us/step - loss: 10704.9584 - val_loss: 9370.5688\n",
            "Epoch 27/40\n",
            "8421/8421 [==============================] - 1s 101us/step - loss: 10747.7911 - val_loss: 9340.4517\n",
            "Epoch 28/40\n",
            "8421/8421 [==============================] - 1s 81us/step - loss: 10675.5752 - val_loss: 9289.3475\n",
            "Epoch 29/40\n",
            "8421/8421 [==============================] - 1s 105us/step - loss: 10743.9552 - val_loss: 9297.1979\n",
            "Epoch 30/40\n",
            "8421/8421 [==============================] - 1s 95us/step - loss: 10647.0649 - val_loss: 9283.0078\n",
            "Epoch 31/40\n",
            "8421/8421 [==============================] - 1s 84us/step - loss: 10689.8580 - val_loss: 9495.5665\n",
            "Epoch 32/40\n",
            "8421/8421 [==============================] - 1s 81us/step - loss: 10698.0268 - val_loss: 9280.4810\n",
            "Epoch 33/40\n",
            "8421/8421 [==============================] - 1s 79us/step - loss: 10684.6076 - val_loss: 9271.7441\n",
            "Epoch 34/40\n",
            "8421/8421 [==============================] - 1s 81us/step - loss: 10714.4247 - val_loss: 9317.0839\n",
            "Epoch 35/40\n",
            "8421/8421 [==============================] - 1s 91us/step - loss: 10657.2901 - val_loss: 9271.9531\n",
            "Epoch 36/40\n",
            "8421/8421 [==============================] - 1s 81us/step - loss: 10654.7704 - val_loss: 9307.0439\n",
            "Epoch 37/40\n",
            "8421/8421 [==============================] - 1s 87us/step - loss: 10687.7701 - val_loss: 9267.3979\n",
            "Epoch 38/40\n",
            "8421/8421 [==============================] - 1s 87us/step - loss: 10660.2672 - val_loss: 9221.4257\n",
            "Epoch 39/40\n",
            "8421/8421 [==============================] - 1s 93us/step - loss: 10679.4773 - val_loss: 9301.7823\n",
            "Epoch 40/40\n",
            "8421/8421 [==============================] - 1s 110us/step - loss: 10709.1601 - val_loss: 9232.1421\n"
          ],
          "name": "stdout"
        }
      ]
    },
    {
      "cell_type": "code",
      "metadata": {
        "id": "mm2t_nyYv1c4",
        "outputId": "718b7f09-7bc7-4cdf-c502-ed55479627c1"
      },
      "source": [
        "plt.plot(history.history['loss'])\n",
        "plt.plot(history.history['val_loss'])\n",
        "plt.title('model loss')\n",
        "plt.ylabel('loss')\n",
        "plt.xlabel('epoch')\n",
        "plt.legend(['train', 'test'], loc='upper left')\n",
        "plt.show()"
      ],
      "execution_count": null,
      "outputs": [
        {
          "output_type": "display_data",
          "data": {
            "image/png": "[encoded data removed]",
            "text/plain": [
              "<Figure size 432x288 with 1 Axes>"
            ]
          },
          "metadata": {
            "tags": [],
            "needs_background": "light"
          }
        }
      ]
    },
    {
      "cell_type": "code",
      "metadata": {
        "id": "SRZn9vPyv1c4",
        "outputId": "91d0a7b2-9886-4c58-e2b4-0226248a928b"
      },
      "source": [
        "print(r2_score(Y_2_train,model.predict(X_2_train)))\n",
        "print(r2_score(Y_2_test,model.predict(X_2_test)))"
      ],
      "execution_count": null,
      "outputs": [
        {
          "output_type": "stream",
          "text": [
            "0.7170088081192865\n",
            "0.7480151369234438\n"
          ],
          "name": "stdout"
        }
      ]
    },
    {
      "cell_type": "code",
      "metadata": {
        "id": "0REKeMkAv1c4",
        "outputId": "3643660a-a61b-4f9d-832f-3e4dc798b10c"
      },
      "source": [
        "model_3_cols = ['PT08.S1(CO)', 'PT08.S2(NMHC)', 'PT08.S3(NOx)',\n",
        "               'PT08.S4(NO2)', 'PT08.S5(O3)', 'T', 'AH', 'RH']\n",
        "X_3_data = X_data[model_3_cols]\n",
        "Y_3_data = Y_data[['NO2(GT)']]\n",
        "\n",
        "# Handling missing values\n",
        "\n",
        "imp_mean = SimpleImputer(missing_values=-200, strategy='mean')\n",
        "imp_mean.fit(Y_3_data)\n",
        "\n",
        "Y_3_data = imp_mean.transform(Y_3_data)\n",
        "\n",
        "# print(Y_data)\n",
        "\n",
        "\n",
        "# Train test split\n",
        "\n",
        "X_3_train, X_3_test, Y_3_train, Y_3_test = train_test_split(X_3_data, Y_3_data, test_size=0.1, random_state=42)\n",
        "\n",
        "scaler_3 = StandardScaler()\n",
        "scaler_3.fit(X_3_train)\n",
        "X_3_train = scaler_3.transform(X_3_train)\n",
        "X_3_test = scaler_3.transform(X_3_test)\n",
        "\n",
        "\n",
        "model = Sequential()\n",
        "model = Sequential()\n",
        "model.add(Dense(8, input_dim=8, kernel_initializer='normal', activation='relu'))\n",
        "model.add(Dense(64, kernel_initializer='normal'))\n",
        "model.add(Dense(64, kernel_initializer='normal'))\n",
        "model.add(Dense(1, kernel_initializer='normal'))\n",
        "\n",
        "model.compile(loss='mean_squared_error', optimizer='adam')\n",
        "print(model.summary())\n",
        "history = model.fit(X_3_train,Y_3_train,validation_data = (X_3_test,Y_3_test),batch_size = 32, epochs = 20)\n"
      ],
      "execution_count": null,
      "outputs": [
        {
          "output_type": "stream",
          "text": [
            "_________________________________________________________________\n",
            "Layer (type)                 Output Shape              Param #   \n",
            "=================================================================\n",
            "dense_76 (Dense)             (None, 8)                 72        \n",
            "_________________________________________________________________\n",
            "dense_77 (Dense)             (None, 64)                576       \n",
            "_________________________________________________________________\n",
            "dense_78 (Dense)             (None, 64)                4160      \n",
            "_________________________________________________________________\n",
            "dense_79 (Dense)             (None, 1)                 65        \n",
            "=================================================================\n",
            "Total params: 4,873\n",
            "Trainable params: 4,873\n",
            "Non-trainable params: 0\n",
            "_________________________________________________________________\n",
            "None\n",
            "Train on 8421 samples, validate on 936 samples\n",
            "Epoch 1/20\n",
            "8421/8421 [==============================] - 2s 288us/step - loss: 5944.2140 - val_loss: 1241.9915\n",
            "Epoch 2/20\n",
            "8421/8421 [==============================] - 1s 135us/step - loss: 967.2211 - val_loss: 828.2938\n",
            "Epoch 3/20\n",
            "8421/8421 [==============================] - 1s 91us/step - loss: 828.9563 - val_loss: 792.9329\n",
            "Epoch 4/20\n",
            "8421/8421 [==============================] - 1s 87us/step - loss: 815.4827 - val_loss: 781.0200\n",
            "Epoch 5/20\n",
            "8421/8421 [==============================] - 1s 84us/step - loss: 811.7082 - val_loss: 775.9365\n",
            "Epoch 6/20\n",
            "8421/8421 [==============================] - 1s 85us/step - loss: 803.1952 - val_loss: 798.6668\n",
            "Epoch 7/20\n",
            "8421/8421 [==============================] - 1s 84us/step - loss: 802.4474 - val_loss: 773.5405\n",
            "Epoch 8/20\n",
            "8421/8421 [==============================] - 1s 84us/step - loss: 806.2466 - val_loss: 770.3525\n",
            "Epoch 9/20\n",
            "8421/8421 [==============================] - 1s 83us/step - loss: 794.5792 - val_loss: 765.5106\n",
            "Epoch 10/20\n",
            "8421/8421 [==============================] - 1s 85us/step - loss: 795.4928 - val_loss: 770.5531\n",
            "Epoch 11/20\n",
            "8421/8421 [==============================] - 1s 101us/step - loss: 795.0783 - val_loss: 762.2985\n",
            "Epoch 12/20\n",
            "8421/8421 [==============================] - 1s 85us/step - loss: 788.4521 - val_loss: 795.8318\n",
            "Epoch 13/20\n",
            "8421/8421 [==============================] - 1s 114us/step - loss: 791.9408 - val_loss: 751.2226\n",
            "Epoch 14/20\n",
            "8421/8421 [==============================] - 1s 87us/step - loss: 785.0635 - val_loss: 756.3498\n",
            "Epoch 15/20\n",
            "8421/8421 [==============================] - 1s 85us/step - loss: 785.8493 - val_loss: 747.1272\n",
            "Epoch 16/20\n",
            "8421/8421 [==============================] - 1s 119us/step - loss: 780.8971 - val_loss: 755.5358\n",
            "Epoch 17/20\n",
            "8421/8421 [==============================] - 1s 93us/step - loss: 774.3806 - val_loss: 753.0548\n",
            "Epoch 18/20\n",
            "8421/8421 [==============================] - 1s 87us/step - loss: 774.2427 - val_loss: 744.7363\n",
            "Epoch 19/20\n",
            "8421/8421 [==============================] - 1s 85us/step - loss: 778.2945 - val_loss: 741.0400\n",
            "Epoch 20/20\n",
            "8421/8421 [==============================] - 1s 117us/step - loss: 771.9730 - val_loss: 735.7222\n"
          ],
          "name": "stdout"
        }
      ]
    },
    {
      "cell_type": "code",
      "metadata": {
        "id": "XhiiX5Bgv1c4",
        "outputId": "4e79e5b3-8d6f-4c9f-fdd1-68a358a6ac82"
      },
      "source": [
        "plt.plot(history.history['loss'])\n",
        "plt.plot(history.history['val_loss'])\n",
        "plt.title('model loss')\n",
        "plt.ylabel('loss')\n",
        "plt.xlabel('epoch')\n",
        "plt.legend(['train', 'test'], loc='upper left')\n",
        "plt.show()"
      ],
      "execution_count": null,
      "outputs": [
        {
          "output_type": "display_data",
          "data": {
            "image/png": "[encoded data removed]",
            "text/plain": [
              "<Figure size 432x288 with 1 Axes>"
            ]
          },
          "metadata": {
            "tags": [],
            "needs_background": "light"
          }
        }
      ]
    },
    {
      "cell_type": "code",
      "metadata": {
        "id": "4dMYrntPv1c4",
        "outputId": "06c6659f-1c17-4cc8-ec04-0d6bbf24ec77"
      },
      "source": [
        "print(r2_score(Y_3_train,model.predict(X_3_train)))\n",
        "print(r2_score(Y_3_test,model.predict(X_3_test)))"
      ],
      "execution_count": null,
      "outputs": [
        {
          "output_type": "stream",
          "text": [
            "0.6047720693129596\n",
            "0.6165216426579758\n"
          ],
          "name": "stdout"
        }
      ]
    },
    {
      "cell_type": "code",
      "metadata": {
        "id": "a4yGnA5av1c4",
        "outputId": "a08a9413-1c61-47a2-addb-0bb9c30ae673"
      },
      "source": [
        "model_4_cols = ['PT08.S1(CO)', 'PT08.S2(NMHC)', 'PT08.S3(NOx)',\n",
        "               'PT08.S4(NO2)', 'PT08.S5(O3)', 'T', 'AH', 'RH']\n",
        "\n",
        "X_4_data = X_data[model_4_cols]\n",
        "Y_4_data = Y_data[['C6H6(GT)']]\n",
        "\n",
        "# Handling missing values\n",
        "\n",
        "imp_mean = SimpleImputer(missing_values=-200, strategy='mean')\n",
        "imp_mean.fit(Y_4_data)\n",
        "\n",
        "Y_4_data = imp_mean.transform(Y_4_data)\n",
        "\n",
        "# print(Y_data)\n",
        "\n",
        "\n",
        "# Train test split\n",
        "\n",
        "X_4_train, X_4_test, Y_4_train, Y_4_test = train_test_split(X_4_data, Y_4_data, test_size=0.1, random_state=42)\n",
        "\n",
        "scaler_3 = StandardScaler()\n",
        "scaler_3.fit(X_4_train)\n",
        "X_4_train = scaler_3.transform(X_4_train)\n",
        "X_4_test = scaler_3.transform(X_4_test)\n",
        "\n",
        "\n",
        "model = Sequential()\n",
        "model = Sequential()\n",
        "model.add(Dense(8, input_dim=8, kernel_initializer='normal', activation='relu'))\n",
        "model.add(Dense(64, kernel_initializer='normal'))\n",
        "model.add(Dense(64, kernel_initializer='normal'))\n",
        "model.add(Dense(1, kernel_initializer='normal'))\n",
        "\n",
        "model.compile(loss='mean_squared_error', optimizer='adam')\n",
        "print(model.summary())\n",
        "history = model.fit(X_4_train,Y_4_train,validation_data = (X_4_test,Y_4_test),batch_size = 32, epochs = 20)\n"
      ],
      "execution_count": null,
      "outputs": [
        {
          "output_type": "stream",
          "text": [
            "_________________________________________________________________\n",
            "Layer (type)                 Output Shape              Param #   \n",
            "=================================================================\n",
            "dense_80 (Dense)             (None, 8)                 72        \n",
            "_________________________________________________________________\n",
            "dense_81 (Dense)             (None, 64)                576       \n",
            "_________________________________________________________________\n",
            "dense_82 (Dense)             (None, 64)                4160      \n",
            "_________________________________________________________________\n",
            "dense_83 (Dense)             (None, 1)                 65        \n",
            "=================================================================\n",
            "Total params: 4,873\n",
            "Trainable params: 4,873\n",
            "Non-trainable params: 0\n",
            "_________________________________________________________________\n",
            "None\n",
            "Train on 8421 samples, validate on 936 samples\n",
            "Epoch 1/20\n",
            "8421/8421 [==============================] - 2s 252us/step - loss: 28.7434 - val_loss: 2.9259\n",
            "Epoch 2/20\n",
            "8421/8421 [==============================] - 1s 79us/step - loss: 1.9948 - val_loss: 1.2629\n",
            "Epoch 3/20\n",
            "8421/8421 [==============================] - 1s 105us/step - loss: 0.7643 - val_loss: 0.5326\n",
            "Epoch 4/20\n",
            "8421/8421 [==============================] - 1s 80us/step - loss: 0.3177 - val_loss: 0.2760\n",
            "Epoch 5/20\n",
            "8421/8421 [==============================] - 1s 121us/step - loss: 0.1937 - val_loss: 0.1890\n",
            "Epoch 6/20\n",
            "8421/8421 [==============================] - 1s 130us/step - loss: 0.1363 - val_loss: 0.1445\n",
            "Epoch 7/20\n",
            "8421/8421 [==============================] - 1s 107us/step - loss: 0.1006 - val_loss: 0.0945\n",
            "Epoch 8/20\n",
            "8421/8421 [==============================] - 1s 86us/step - loss: 0.0875 - val_loss: 0.0898\n",
            "Epoch 9/20\n",
            "8421/8421 [==============================] - 1s 93us/step - loss: 0.0711 - val_loss: 0.0758\n",
            "Epoch 10/20\n",
            "8421/8421 [==============================] - 1s 146us/step - loss: 0.0630 - val_loss: 0.0796\n",
            "Epoch 11/20\n",
            "8421/8421 [==============================] - 1s 85us/step - loss: 0.0553 - val_loss: 0.0519\n",
            "Epoch 12/20\n",
            "8421/8421 [==============================] - 1s 81us/step - loss: 0.0535 - val_loss: 0.0505\n",
            "Epoch 13/20\n",
            "8421/8421 [==============================] - 1s 85us/step - loss: 0.0474 - val_loss: 0.0556\n",
            "Epoch 14/20\n",
            "8421/8421 [==============================] - 1s 84us/step - loss: 0.0483 - val_loss: 0.0373\n",
            "Epoch 15/20\n",
            "8421/8421 [==============================] - 1s 106us/step - loss: 0.0377 - val_loss: 0.0389\n",
            "Epoch 16/20\n",
            "8421/8421 [==============================] - 1s 86us/step - loss: 0.0384 - val_loss: 0.0311\n",
            "Epoch 17/20\n",
            "8421/8421 [==============================] - 1s 84us/step - loss: 0.0430 - val_loss: 0.0385\n",
            "Epoch 18/20\n",
            "8421/8421 [==============================] - 1s 85us/step - loss: 0.0352 - val_loss: 0.0286\n",
            "Epoch 19/20\n",
            "8421/8421 [==============================] - 1s 85us/step - loss: 0.0352 - val_loss: 0.0323\n",
            "Epoch 20/20\n",
            "8421/8421 [==============================] - 1s 87us/step - loss: 0.0348 - val_loss: 0.0257\n"
          ],
          "name": "stdout"
        }
      ]
    },
    {
      "cell_type": "code",
      "metadata": {
        "id": "gTcxsJlLv1c4",
        "outputId": "146d69b4-318d-40e8-ab87-a175f0cdbead"
      },
      "source": [
        "plt.plot(history.history['loss'])\n",
        "plt.plot(history.history['val_loss'])\n",
        "plt.title('model loss')\n",
        "plt.ylabel('loss')\n",
        "plt.xlabel('epoch')\n",
        "plt.legend(['train', 'test'], loc='upper left')\n",
        "plt.show()"
      ],
      "execution_count": null,
      "outputs": [
        {
          "output_type": "display_data",
          "data": {
            "image/png": "[encoded data removed]",
            "text/plain": [
              "<Figure size 432x288 with 1 Axes>"
            ]
          },
          "metadata": {
            "tags": [],
            "needs_background": "light"
          }
        }
      ]
    },
    {
      "cell_type": "code",
      "metadata": {
        "id": "58xC_NF5v1c4",
        "outputId": "dd43bcd3-ccd8-4d0c-fcbf-060af6ea097b"
      },
      "source": [
        "print(r2_score(Y_4_train,model.predict(X_4_train)))\n",
        "print(r2_score(Y_4_test,model.predict(X_4_test)))"
      ],
      "execution_count": null,
      "outputs": [
        {
          "output_type": "stream",
          "text": [
            "0.9995960365581775\n",
            "0.9995639771893257\n"
          ],
          "name": "stdout"
        }
      ]
    },
    {
      "cell_type": "code",
      "metadata": {
        "id": "RwX2BB7wv1c4"
      },
      "source": [
        ""
      ],
      "execution_count": null,
      "outputs": []
    }
  ]
}