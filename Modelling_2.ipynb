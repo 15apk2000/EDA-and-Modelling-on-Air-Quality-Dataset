{
  "nbformat": 4,
  "nbformat_minor": 0,
  "metadata": {
    "kernelspec": {
      "display_name": "Python 3",
      "language": "python",
      "name": "python3"
    },
    "language_info": {
      "codemirror_mode": {
        "name": "ipython",
        "version": 3
      },
      "file_extension": ".py",
      "mimetype": "text/x-python",
      "name": "python",
      "nbconvert_exporter": "python",
      "pygments_lexer": "ipython3",
      "version": "3.7.5"
    },
    "colab": {
      "name": "Group5_S20170010105_S20170020230_S20170010138_S20170020241_Project_Code_File3.ipynb",
      "provenance": []
    }
  },
  "cells": [
    {
      "cell_type": "markdown",
      "metadata": {
        "id": "TIHbW-EmvpCX"
      },
      "source": [
        "\n",
        "\n",
        "1.  S20170010105 - PSVN Bhavani Shankar\n",
        "2.  S20170020230 - Pavan Kumar Anand\n",
        "\n",
        "1.  S20170010138 - Hemanth Sanisetty\n",
        "\n",
        "1.  S20170020241 - Somana Venkata Sai Krishna Rupesh\n",
        "\n",
        "\n",
        "\n",
        "\n",
        "\n",
        "\n",
        "\n",
        "\n"
      ]
    },
    {
      "cell_type": "code",
      "metadata": {
        "id": "5Ega8lB4wLU4"
      },
      "source": [
        "from sklearn.decomposition import PCA\n",
        "from sklearn.preprocessing import StandardScaler\n",
        "from sklearn.model_selection import train_test_split\n",
        "from sklearn.linear_model import LinearRegression\n",
        "from sklearn.svm import SVR\n",
        "from sklearn.ensemble import RandomForestRegressor\n",
        "from sklearn.impute import SimpleImputer\n",
        "from sklearn.metrics import mean_squared_error\n",
        "from sklearn.metrics import r2_score\n",
        "import pandas as pd\n",
        "import matplotlib.pyplot as plt"
      ],
      "execution_count": null,
      "outputs": []
    },
    {
      "cell_type": "code",
      "metadata": {
        "id": "vIENc3g_wLU4",
        "outputId": "1890e9f8-b7fb-4b22-d38d-b2ba85f65485"
      },
      "source": [
        "data = pd.read_excel('./Dataset/AirQualityUCI.xlsx')\n",
        "\n",
        "attributes = ['CO(GT)', 'PT08.S1(CO)', 'NMHC(GT)', 'C6H6(GT)', 'PT08.S2(NMHC)', 'NOx(GT)',\n",
        "              'PT08.S3(NOx)', 'NO2(GT)', 'PT08.S4(NO2)', 'PT08.S5(O3)']\n",
        "\n",
        "X_data = data[['PT08.S1(CO)', 'PT08.S2(NMHC)', 'PT08.S3(NOx)',\n",
        "               'PT08.S4(NO2)', 'PT08.S5(O3)', 'T', 'AH', 'RH']]\n",
        "\n",
        "Y_data = data[['CO(GT)','NMHC(GT)','C6H6(GT)','NOx(GT)','NO2(GT)']]\n",
        "\n",
        "# Data Available\n",
        "\n",
        "Y_cols = ['CO(GT)','NMHC(GT)','C6H6(GT)','NOx(GT)','NO2(GT)']\n",
        "\n",
        "for i in range(5):\n",
        "\tcount = 0\n",
        "\tfor j in range(len(data[Y_cols[i]])):\n",
        "\t\tif data[Y_cols[i]][j] == -200:\n",
        "\t\t\tcount += 1\n",
        "\tprint(count/len(data[Y_cols[i]]))\n",
        "\n",
        "# Model 1\n",
        "\n",
        "model_1_cols = ['PT08.S1(CO)', 'PT08.S2(NMHC)', 'PT08.S3(NOx)',\n",
        "               'PT08.S4(NO2)', 'PT08.S5(O3)', 'T', 'AH', 'RH']\n",
        "X_1_data = X_data[model_1_cols]\n",
        "Y_1_data = Y_data[['CO(GT)']]\n",
        "\n",
        "# Handling missing values\n",
        "\n",
        "imp_mean = SimpleImputer(missing_values=-200, strategy='mean')\n",
        "imp_mean.fit(Y_1_data)\n",
        "\n",
        "Y_1_data = imp_mean.transform(Y_1_data)\n",
        "\n",
        "\n",
        "\n",
        "# Train test split\n",
        "\n",
        "X_1_train, X_1_test, Y_1_train, Y_1_test = train_test_split(X_1_data, Y_1_data, test_size=0.1, random_state=42)\n",
        "\n",
        "scaler_1 = StandardScaler()\n",
        "scaler_1.fit(X_1_train)\n",
        "X_1_train = scaler_1.transform(X_1_train)\n",
        "X_1_test = scaler_1.transform(X_1_test)\n",
        "\n",
        "regressor = RandomForestRegressor()\n",
        "regressor.fit(X_1_train, Y_1_train)\n",
        "print(\"Train MSE:\",mean_squared_error(Y_1_train,regressor.predict(X_1_train)))\n",
        "print(\"Test MSE:\",mean_squared_error(Y_1_test,regressor.predict(X_1_test)))\n",
        "print(\"Train R^2:\",r2_score(Y_1_train,regressor.predict(X_1_train)))\n",
        "print(\"Test R^2:\",r2_score(Y_1_test,regressor.predict(X_1_test)))"
      ],
      "execution_count": null,
      "outputs": [
        {
          "output_type": "stream",
          "text": [
            "0.17986534145559474\n",
            "0.9023191193758683\n",
            "0.0391151009939083\n",
            "0.17516297958747462\n",
            "0.1754835951693919\n"
          ],
          "name": "stdout"
        },
        {
          "output_type": "stream",
          "text": [
            "/usr/local/lib/python3.7/dist-packages/ipykernel_launcher.py:48: DataConversionWarning: A column-vector y was passed when a 1d array was expected. Please change the shape of y to (n_samples,), for example using ravel().\n"
          ],
          "name": "stderr"
        },
        {
          "output_type": "stream",
          "text": [
            "Train MSE: 0.15608176313745042\n",
            "Test MSE: 0.39031765599047435\n",
            "Train R^2: 0.9090591422763319\n",
            "Test R^2: 0.7914461605900208\n"
          ],
          "name": "stdout"
        }
      ]
    },
    {
      "cell_type": "code",
      "metadata": {
        "id": "ZVypZG1gwLU4",
        "outputId": "f10b3aea-c05f-417e-ff18-a23019e9f69d"
      },
      "source": [
        "model_2_cols = ['PT08.S1(CO)', 'PT08.S2(NMHC)', 'PT08.S3(NOx)',\n",
        "               'PT08.S4(NO2)', 'PT08.S5(O3)', 'T', 'AH', 'RH']\n",
        "X_2_data = X_data[model_2_cols]\n",
        "Y_2_data = Y_data[['NOx(GT)']]\n",
        "\n",
        "# Handling missing values\n",
        "\n",
        "imp_mean = SimpleImputer(missing_values=-200, strategy='mean')\n",
        "imp_mean.fit(Y_2_data)\n",
        "\n",
        "Y_2_data = imp_mean.transform(Y_2_data)\n",
        "\n",
        "# print(Y_data)\n",
        "\n",
        "\n",
        "# Train test split\n",
        "\n",
        "X_2_train, X_2_test, Y_2_train, Y_2_test = train_test_split(X_2_data, Y_2_data, test_size=0.1, random_state=42)\n",
        "\n",
        "scaler_2 = StandardScaler()\n",
        "scaler_2.fit(X_2_train)\n",
        "X_2_train = scaler_2.transform(X_2_train)\n",
        "X_2_test = scaler_2.transform(X_2_test)\n",
        "\n",
        "\n",
        "regressor = RandomForestRegressor()\n",
        "regressor.fit(X_2_train, Y_2_train)\n",
        "print(\"Train MSE:\",mean_squared_error(Y_2_train,regressor.predict(X_2_train)))\n",
        "print(\"Test MSE:\",mean_squared_error(Y_2_test,regressor.predict(X_2_test)))\n",
        "print(\"Train R^2:\",r2_score(Y_2_train,regressor.predict(X_2_train)))\n",
        "print(\"Test R^2:\",r2_score(Y_2_test,regressor.predict(X_2_test)))"
      ],
      "execution_count": null,
      "outputs": [
        {
          "output_type": "stream",
          "text": [
            "/usr/local/lib/python3.7/dist-packages/ipykernel_launcher.py:27: DataConversionWarning: A column-vector y was passed when a 1d array was expected. Please change the shape of y to (n_samples,), for example using ravel().\n"
          ],
          "name": "stderr"
        },
        {
          "output_type": "stream",
          "text": [
            "Train MSE: 4226.880284692753\n",
            "Test MSE: 7717.817405652426\n",
            "Train R^2: 0.887257057718462\n",
            "Test R^2: 0.7893475598361549\n"
          ],
          "name": "stdout"
        }
      ]
    },
    {
      "cell_type": "code",
      "metadata": {
        "id": "9sv6maJ4wLU4",
        "outputId": "1031c495-5714-4380-8e2b-870726b54f86"
      },
      "source": [
        "model_3_cols = ['PT08.S1(CO)', 'PT08.S2(NMHC)', 'PT08.S3(NOx)',\n",
        "               'PT08.S4(NO2)', 'PT08.S5(O3)', 'T', 'AH', 'RH']\n",
        "X_3_data = X_data[model_3_cols]\n",
        "Y_3_data = Y_data[['NO2(GT)']]\n",
        "\n",
        "# Handling missing values\n",
        "\n",
        "imp_mean = SimpleImputer(missing_values=-200, strategy='mean')\n",
        "imp_mean.fit(Y_3_data)\n",
        "\n",
        "Y_3_data = imp_mean.transform(Y_3_data)\n",
        "\n",
        "# print(Y_data)\n",
        "\n",
        "\n",
        "# Train test split\n",
        "\n",
        "X_3_train, X_3_test, Y_3_train, Y_3_test = train_test_split(X_3_data, Y_3_data, test_size=0.1, random_state=42)\n",
        "\n",
        "scaler_3 = StandardScaler()\n",
        "scaler_3.fit(X_3_train)\n",
        "X_3_train = scaler_3.transform(X_3_train)\n",
        "X_3_test = scaler_3.transform(X_3_test)\n",
        "\n",
        "regressor = RandomForestRegressor()\n",
        "regressor.fit(X_3_train, Y_3_train)\n",
        "print(\"Train MSE:\",mean_squared_error(Y_3_train,regressor.predict(X_3_train)))\n",
        "print(\"Test MSE:\",mean_squared_error(Y_3_test,regressor.predict(X_3_test)))\n",
        "print(\"Train R^2:\",r2_score(Y_3_train,regressor.predict(X_3_train)))\n",
        "print(\"Test R^2:\",r2_score(Y_3_test,regressor.predict(X_3_test)))"
      ],
      "execution_count": null,
      "outputs": [
        {
          "output_type": "stream",
          "text": [
            "/usr/local/lib/python3.7/dist-packages/ipykernel_launcher.py:26: DataConversionWarning: A column-vector y was passed when a 1d array was expected. Please change the shape of y to (n_samples,), for example using ravel().\n"
          ],
          "name": "stderr"
        },
        {
          "output_type": "stream",
          "text": [
            "Train MSE: 183.91424077806198\n",
            "Test MSE: 527.5271988298072\n",
            "Train R^2: 0.9046520804827882\n",
            "Test R^2: 0.7250385296726077\n"
          ],
          "name": "stdout"
        }
      ]
    },
    {
      "cell_type": "code",
      "metadata": {
        "id": "4ZSNAiARwLU4",
        "outputId": "2a2ecd51-87ba-4a1f-b704-487016ee5ef7"
      },
      "source": [
        "model_4_cols = ['PT08.S1(CO)', 'PT08.S2(NMHC)', 'PT08.S3(NOx)',\n",
        "               'PT08.S4(NO2)', 'PT08.S5(O3)', 'T', 'AH', 'RH']\n",
        "\n",
        "X_4_data = X_data[model_4_cols]\n",
        "Y_4_data = Y_data[['C6H6(GT)']]\n",
        "\n",
        "# Handling missing values\n",
        "\n",
        "imp_mean = SimpleImputer(missing_values=-200, strategy='mean')\n",
        "imp_mean.fit(Y_4_data)\n",
        "\n",
        "Y_4_data = imp_mean.transform(Y_4_data)\n",
        "\n",
        "# print(Y_data)\n",
        "\n",
        "\n",
        "# Train test split\n",
        "\n",
        "X_4_train, X_4_test, Y_4_train, Y_4_test = train_test_split(X_4_data, Y_4_data, test_size=0.1, random_state=42)\n",
        "\n",
        "scaler_3 = StandardScaler()\n",
        "scaler_3.fit(X_4_train)\n",
        "X_4_train = scaler_3.transform(X_4_train)\n",
        "X_4_test = scaler_3.transform(X_4_test)\n",
        "\n",
        "regressor = RandomForestRegressor()\n",
        "regressor.fit(X_4_train, Y_4_train)\n",
        "print(\"Train MSE:\",mean_squared_error(Y_4_train,regressor.predict(X_4_train)))\n",
        "print(\"Test MSE:\",mean_squared_error(Y_4_test,regressor.predict(X_4_test)))\n",
        "print(\"Train R^2:\",r2_score(Y_4_train,regressor.predict(X_4_train)))\n",
        "print(\"Test R^2:\",r2_score(Y_4_test,regressor.predict(X_4_test)))"
      ],
      "execution_count": null,
      "outputs": [
        {
          "output_type": "stream",
          "text": [
            "/usr/local/lib/python3.7/dist-packages/ipykernel_launcher.py:27: DataConversionWarning: A column-vector y was passed when a 1d array was expected. Please change the shape of y to (n_samples,), for example using ravel().\n"
          ],
          "name": "stderr"
        },
        {
          "output_type": "stream",
          "text": [
            "Train MSE: 0.0032452026595699143\n",
            "Test MSE: 0.00970017492813857\n",
            "Train R^2: 0.9999384014933775\n",
            "Test R^2: 0.9998356820967776\n"
          ],
          "name": "stdout"
        }
      ]
    },
    {
      "cell_type": "code",
      "metadata": {
        "id": "ijrWsQyKwLU4"
      },
      "source": [
        ""
      ],
      "execution_count": null,
      "outputs": []
    }
  ]
}